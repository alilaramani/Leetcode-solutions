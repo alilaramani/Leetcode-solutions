{
 "cells": [
  {
   "cell_type": "markdown",
   "metadata": {},
   "source": [
    "Given a string s, return the longest palindromic substring in s. \n",
    "\n",
    "Example 1:\n",
    "\n",
    "Input: s = \"babad\"\n",
    "Output: \"bab\"\n",
    "Note: \"aba\" is also a valid answer.\n",
    "Example 2:\n",
    "\n",
    "Input: s = \"cbbd\"\n",
    "Output: \"bb\"\n",
    "Example 3:\n",
    "\n",
    "Input: s = \"a\"\n",
    "Output: \"a\"\n",
    "Example 4:\n",
    "\n",
    "Input: s = \"ac\"\n",
    "Output: \"a\""
   ]
  },
  {
   "cell_type": "code",
   "execution_count": null,
   "metadata": {},
   "outputs": [],
   "source": [
    "class Solution:\n",
    "    def longestPalindrome(self, s: str) -> str:\n",
    "        n = len(s)\n",
    "        ans = s[0]\n",
    "        ind = 0\n",
    "        \n",
    "        while ind < n:\n",
    "            left = ind - 1\n",
    "            right = ind + 1\n",
    "            \n",
    "            while right < n and s[ind] == s[right]:\n",
    "                if len(ans) < right - ind + 1:\n",
    "                    ans = s[ind:right + 1]\n",
    "                right += 1\n",
    "                       \n",
    "            while left >= 0 and right < n and s[left] == s[right]:\n",
    "                if len(ans) < right - left + 1:\n",
    "                    ans = s[left:right + 1]\n",
    "                left -= 1\n",
    "                right += 1\n",
    "            \n",
    "            ind += 1\n",
    "        \n",
    "        return ans"
   ]
  },
  {
   "cell_type": "code",
   "execution_count": null,
   "metadata": {},
   "outputs": [],
   "source": []
  }
 ],
 "metadata": {
  "kernelspec": {
   "display_name": "Python 3",
   "language": "python",
   "name": "python3"
  },
  "language_info": {
   "codemirror_mode": {
    "name": "ipython",
    "version": 3
   },
   "file_extension": ".py",
   "mimetype": "text/x-python",
   "name": "python",
   "nbconvert_exporter": "python",
   "pygments_lexer": "ipython3",
   "version": "3.8.5"
  }
 },
 "nbformat": 4,
 "nbformat_minor": 4
}
