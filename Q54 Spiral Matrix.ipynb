{
 "cells": [
  {
   "cell_type": "markdown",
   "metadata": {},
   "source": [
    "Given an m x n matrix, return all elements of the matrix in spiral order. \n",
    "\n",
    "Example 1:\n",
    "\n",
    "Input: matrix = [[1,2,3],[4,5,6],[7,8,9]]\n",
    "Output: [1,2,3,6,9,8,7,4,5]\n",
    "    \n",
    "Example 2:\n",
    "\n",
    "\n",
    "Input: matrix = [[1,2,3,4],[5,6,7,8],[9,10,11,12]]\n",
    "Output: [1,2,3,4,8,12,11,10,9,5,6,7]"
   ]
  },
  {
   "cell_type": "code",
   "execution_count": null,
   "metadata": {},
   "outputs": [],
   "source": [
    "class Solution:\n",
    "    def spiralOrder(self, matrix: List[List[int]]) -> List[int]:\n",
    "        if not matrix:\n",
    "            return []\n",
    "        m, n = len(matrix), len(matrix[0])\n",
    "        directions = [[0, 1], [1, 0], [0, -1], [-1, 0]]\n",
    "        d = 0\n",
    "        visited = set()\n",
    "        x, y = 0, -1\n",
    "        res = []\n",
    "        count = 0\n",
    "        dx, dy = directions[0]\n",
    "        while count < m * n:\n",
    "            if 0 <= x + dx < m and 0 <= y + dy < n and (x + dx, y + dy) not in visited:\n",
    "                res.append(matrix[x + dx][y + dy])\n",
    "                x += dx\n",
    "                y += dy\n",
    "                count += 1\n",
    "                visited.add((x, y))\n",
    "            else:\n",
    "                d += 1\n",
    "                dx, dy = directions[d % 4]\n",
    "        return res\n",
    "        "
   ]
  }
 ],
 "metadata": {
  "kernelspec": {
   "display_name": "Python 3",
   "language": "python",
   "name": "python3"
  },
  "language_info": {
   "codemirror_mode": {
    "name": "ipython",
    "version": 3
   },
   "file_extension": ".py",
   "mimetype": "text/x-python",
   "name": "python",
   "nbconvert_exporter": "python",
   "pygments_lexer": "ipython3",
   "version": "3.8.5"
  }
 },
 "nbformat": 4,
 "nbformat_minor": 4
}
